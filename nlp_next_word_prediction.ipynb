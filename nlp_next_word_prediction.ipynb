{
  "nbformat": 4,
  "nbformat_minor": 0,
  "metadata": {
    "colab": {
      "provenance": []
    },
    "kernelspec": {
      "name": "python3",
      "display_name": "Python 3"
    },
    "language_info": {
      "name": "python"
    }
  },
  "cells": [
    {
      "cell_type": "code",
      "execution_count": 101,
      "metadata": {
        "id": "4ZO-DXqqpMs_"
      },
      "outputs": [],
      "source": [
        "import numpy as np\n",
        "import pandas as pd\n",
        "import tensorflow as tf\n",
        "from tensorflow import keras\n",
        "from tensorflow.keras.preprocessing.text import Tokenizer"
      ]
    },
    {
      "cell_type": "code",
      "source": [
        "#birdirectional learns forward and backwards and learn best parameter for each and merge them.\n",
        "data = open('sample.txt').read()"
      ],
      "metadata": {
        "id": "AQRTBwZZyuy4"
      },
      "execution_count": 102,
      "outputs": []
    },
    {
      "cell_type": "code",
      "source": [
        "data"
      ],
      "metadata": {
        "colab": {
          "base_uri": "https://localhost:8080/",
          "height": 140
        },
        "id": "KNW74D8jynIq",
        "outputId": "3eb37042-6827-43d9-da1e-87f8fba6e0a5"
      },
      "execution_count": 103,
      "outputs": [
        {
          "output_type": "execute_result",
          "data": {
            "text/plain": [
              "\"Hailie, I know you miss your Mom, and I know you miss your Dad. When I'm gone, but I'm tryin' to give you the life that I never had. I can see you're sad, even when you smile, even when you laugh. I can see it in your eyes, deep inside you wanna cry. Cause you're scared, I ain't there, Daddy's wit' you in your prayers. No more cryin', wipe them tears, Daddy's here, no more nightmares. We gon' pull together through it, we gon' do it. Lainie, Uncle's crazy, ain't he? Yeah, but he loves you, girl, and you better know it. We're all we got in this world when it spins, when it swirls. When it whirls, when it twirls, two little beautiful girls. Lookin' puzzled, in a daze, I know it's confusin' you. Daddy's always on the move, Mama's always on the news. I try to keep you sheltered from it, but somehow it seems. The harder that I try to do that, the more it backfires on me. All the things growin' up as Daddy that he had to see. Daddy don't want you to see, but you see just as much as he did. We did not plan it to be this way, your mother and me. But things have got so bad between us, I don't see us ever bein'. Together ever again, like we used to be when we was teenagers. But then, of course, everything always happens for a reason.\\nI guess it was never meant to be. But it's just somethin' we have no control over, and that's what destiny is.\\nBut no more worries, rest your head and go to sleep. Maybe one day we'll wake up and this'll all just be a dream.\""
            ],
            "application/vnd.google.colaboratory.intrinsic+json": {
              "type": "string"
            }
          },
          "metadata": {},
          "execution_count": 103
        }
      ]
    },
    {
      "cell_type": "code",
      "source": [
        "corpus = data.lower().split('.')"
      ],
      "metadata": {
        "id": "eLTr2gvdyso9"
      },
      "execution_count": 104,
      "outputs": []
    },
    {
      "cell_type": "code",
      "source": [
        "corpus"
      ],
      "metadata": {
        "colab": {
          "base_uri": "https://localhost:8080/"
        },
        "id": "lJ9-o3jNysrg",
        "outputId": "f7c471c6-5c37-441e-973a-b41d2c17f78d"
      },
      "execution_count": 105,
      "outputs": [
        {
          "output_type": "execute_result",
          "data": {
            "text/plain": [
              "['hailie, i know you miss your mom, and i know you miss your dad',\n",
              " \" when i'm gone, but i'm tryin' to give you the life that i never had\",\n",
              " \" i can see you're sad, even when you smile, even when you laugh\",\n",
              " ' i can see it in your eyes, deep inside you wanna cry',\n",
              " \" cause you're scared, i ain't there, daddy's wit' you in your prayers\",\n",
              " \" no more cryin', wipe them tears, daddy's here, no more nightmares\",\n",
              " \" we gon' pull together through it, we gon' do it\",\n",
              " \" lainie, uncle's crazy, ain't he? yeah, but he loves you, girl, and you better know it\",\n",
              " \" we're all we got in this world when it spins, when it swirls\",\n",
              " ' when it whirls, when it twirls, two little beautiful girls',\n",
              " \" lookin' puzzled, in a daze, i know it's confusin' you\",\n",
              " \" daddy's always on the move, mama's always on the news\",\n",
              " ' i try to keep you sheltered from it, but somehow it seems',\n",
              " ' the harder that i try to do that, the more it backfires on me',\n",
              " \" all the things growin' up as daddy that he had to see\",\n",
              " \" daddy don't want you to see, but you see just as much as he did\",\n",
              " ' we did not plan it to be this way, your mother and me',\n",
              " \" but things have got so bad between us, i don't see us ever bein'\",\n",
              " ' together ever again, like we used to be when we was teenagers',\n",
              " ' but then, of course, everything always happens for a reason',\n",
              " '\\ni guess it was never meant to be',\n",
              " \" but it's just somethin' we have no control over, and that's what destiny is\",\n",
              " '\\nbut no more worries, rest your head and go to sleep',\n",
              " \" maybe one day we'll wake up and this'll all just be a dream\",\n",
              " '']"
            ]
          },
          "metadata": {},
          "execution_count": 105
        }
      ]
    },
    {
      "cell_type": "code",
      "source": [
        "tokenizer = Tokenizer()\n",
        "tokenizer.fit_on_texts(corpus)"
      ],
      "metadata": {
        "id": "sPPSs14oysuG"
      },
      "execution_count": 106,
      "outputs": []
    },
    {
      "cell_type": "code",
      "source": [
        "total_len = len(tokenizer.word_index) + 1"
      ],
      "metadata": {
        "id": "aWAJK9ze0A23"
      },
      "execution_count": 107,
      "outputs": []
    },
    {
      "cell_type": "code",
      "source": [
        "total_len"
      ],
      "metadata": {
        "colab": {
          "base_uri": "https://localhost:8080/"
        },
        "id": "6eDRhO5c0A43",
        "outputId": "0f5461e0-975a-4457-e115-012f62743fe7"
      },
      "execution_count": 108,
      "outputs": [
        {
          "output_type": "execute_result",
          "data": {
            "text/plain": [
              "153"
            ]
          },
          "metadata": {},
          "execution_count": 108
        }
      ]
    },
    {
      "cell_type": "code",
      "source": [
        "input_sequence=[]\n",
        "for line in corpus:\n",
        "  token_list = tokenizer.texts_to_sequences([line])[0]\n",
        "  for i in range(1, len(token_list)):\n",
        "    n_gram_seq= token_list[:i+1]\n",
        "    input_sequence.append(n_gram_seq)"
      ],
      "metadata": {
        "id": "EOUXWvIc0NmX"
      },
      "execution_count": 109,
      "outputs": []
    },
    {
      "cell_type": "markdown",
      "source": [
        "# Training model to predict the likely next word\n"
      ],
      "metadata": {
        "id": "OKBU2MaJ2CUH"
      }
    },
    {
      "cell_type": "code",
      "source": [
        "max_seq_len = max([len(x) for x in input_sequence])"
      ],
      "metadata": {
        "id": "Bsz12Lnk0Nqk"
      },
      "execution_count": 110,
      "outputs": []
    },
    {
      "cell_type": "code",
      "source": [
        "max_seq_len"
      ],
      "metadata": {
        "colab": {
          "base_uri": "https://localhost:8080/"
        },
        "id": "5b66nPet0NtR",
        "outputId": "f2f3b9bd-c02f-4d9f-cfc6-244b27bc44bb"
      },
      "execution_count": 111,
      "outputs": [
        {
          "output_type": "execute_result",
          "data": {
            "text/plain": [
              "16"
            ]
          },
          "metadata": {},
          "execution_count": 111
        }
      ]
    },
    {
      "cell_type": "code",
      "source": [
        "from tensorflow.keras.preprocessing.sequence import pad_sequences\n",
        "input_sequence = np.array(pad_sequences(input_sequence,maxlen=max_seq_len,padding='pre'))"
      ],
      "metadata": {
        "id": "9yKEXZwd0Nvd"
      },
      "execution_count": 112,
      "outputs": []
    },
    {
      "cell_type": "code",
      "source": [
        "input_sequence"
      ],
      "metadata": {
        "colab": {
          "base_uri": "https://localhost:8080/"
        },
        "id": "NQ4lFVxG2fmB",
        "outputId": "850f4388-6d35-4ba2-f90a-7be01180f9d1"
      },
      "execution_count": 113,
      "outputs": [
        {
          "output_type": "execute_result",
          "data": {
            "text/plain": [
              "array([[  0,   0,   0, ...,   0,  51,   3],\n",
              "       [  0,   0,   0, ...,  51,   3,  12],\n",
              "       [  0,   0,   0, ...,   3,  12,   1],\n",
              "       ...,\n",
              "       [  0,   0,   0, ...,  20,  25,  18],\n",
              "       [  0,   0,   0, ...,  25,  18,  21],\n",
              "       [  0,   0,   0, ...,  18,  21, 152]], dtype=int32)"
            ]
          },
          "metadata": {},
          "execution_count": 113
        }
      ]
    },
    {
      "cell_type": "code",
      "source": [
        "xs = input_sequence[:,:-1]\n",
        "labels = input_sequence[:,-1]"
      ],
      "metadata": {
        "id": "EzKYvc_m2foV"
      },
      "execution_count": 114,
      "outputs": []
    },
    {
      "cell_type": "code",
      "source": [
        "ys = tf.keras.utils.to_categorical(labels,num_classes=total_len)"
      ],
      "metadata": {
        "id": "uaWsyxvL3EQ6"
      },
      "execution_count": 115,
      "outputs": []
    },
    {
      "cell_type": "code",
      "source": [
        "ys"
      ],
      "metadata": {
        "colab": {
          "base_uri": "https://localhost:8080/"
        },
        "id": "qity4pDY3ETW",
        "outputId": "b18e3997-919f-4098-c5ae-1dc9287de3a5"
      },
      "execution_count": 116,
      "outputs": [
        {
          "output_type": "execute_result",
          "data": {
            "text/plain": [
              "array([[0., 0., 0., ..., 0., 0., 0.],\n",
              "       [0., 0., 0., ..., 0., 0., 0.],\n",
              "       [0., 1., 0., ..., 0., 0., 0.],\n",
              "       ...,\n",
              "       [0., 0., 0., ..., 0., 0., 0.],\n",
              "       [0., 0., 0., ..., 0., 0., 0.],\n",
              "       [0., 0., 0., ..., 0., 0., 1.]], dtype=float32)"
            ]
          },
          "metadata": {},
          "execution_count": 116
        }
      ]
    },
    {
      "cell_type": "code",
      "source": [
        "ys[6]"
      ],
      "metadata": {
        "colab": {
          "base_uri": "https://localhost:8080/"
        },
        "id": "6BxX-dhz3sY1",
        "outputId": "be318583-3891-4a1e-8de1-488330f34c6a"
      },
      "execution_count": 117,
      "outputs": [
        {
          "output_type": "execute_result",
          "data": {
            "text/plain": [
              "array([0., 0., 0., 0., 0., 0., 0., 0., 0., 1., 0., 0., 0., 0., 0., 0., 0.,\n",
              "       0., 0., 0., 0., 0., 0., 0., 0., 0., 0., 0., 0., 0., 0., 0., 0., 0.,\n",
              "       0., 0., 0., 0., 0., 0., 0., 0., 0., 0., 0., 0., 0., 0., 0., 0., 0.,\n",
              "       0., 0., 0., 0., 0., 0., 0., 0., 0., 0., 0., 0., 0., 0., 0., 0., 0.,\n",
              "       0., 0., 0., 0., 0., 0., 0., 0., 0., 0., 0., 0., 0., 0., 0., 0., 0.,\n",
              "       0., 0., 0., 0., 0., 0., 0., 0., 0., 0., 0., 0., 0., 0., 0., 0., 0.,\n",
              "       0., 0., 0., 0., 0., 0., 0., 0., 0., 0., 0., 0., 0., 0., 0., 0., 0.,\n",
              "       0., 0., 0., 0., 0., 0., 0., 0., 0., 0., 0., 0., 0., 0., 0., 0., 0.,\n",
              "       0., 0., 0., 0., 0., 0., 0., 0., 0., 0., 0., 0., 0., 0., 0., 0., 0.],\n",
              "      dtype=float32)"
            ]
          },
          "metadata": {},
          "execution_count": 117
        }
      ]
    },
    {
      "cell_type": "code",
      "source": [
        "from tensorflow.keras.models import Sequential\n",
        "from tensorflow.keras.optimizers import Adam\n",
        "from tensorflow.keras.layers import Embedding, LSTM, Dense, Bidirectional\n",
        "model = Sequential()\n",
        "model.add(Embedding(total_len,240,input_length=max_seq_len-1))\n",
        "model.add(Bidirectional(LSTM(150)))\n",
        "model.add(Dense(total_len,activation='softmax'))\n",
        "adam = Adam(lr=0.01)"
      ],
      "metadata": {
        "colab": {
          "base_uri": "https://localhost:8080/"
        },
        "id": "GJcOtUH-3sbr",
        "outputId": "990f7290-034e-4faa-dcc4-8a41eb5d415b"
      },
      "execution_count": 118,
      "outputs": [
        {
          "output_type": "stream",
          "name": "stderr",
          "text": [
            "WARNING:absl:`lr` is deprecated in Keras optimizer, please use `learning_rate` or use the legacy optimizer, e.g.,tf.keras.optimizers.legacy.Adam.\n"
          ]
        }
      ]
    },
    {
      "cell_type": "code",
      "source": [
        "model.compile(loss='categorical_crossentropy',optimizer=adam,metrics=['accuracy'])"
      ],
      "metadata": {
        "id": "D1kO-QxW3seG"
      },
      "execution_count": 119,
      "outputs": []
    },
    {
      "cell_type": "code",
      "source": [
        "history = model.fit(xs,ys,epochs=110,verbose=1)"
      ],
      "metadata": {
        "colab": {
          "base_uri": "https://localhost:8080/"
        },
        "id": "6ZPhrXhV5f8D",
        "outputId": "fdc696b4-4a77-43ea-b9bf-9207b348da50"
      },
      "execution_count": 120,
      "outputs": [
        {
          "output_type": "stream",
          "name": "stdout",
          "text": [
            "Epoch 1/110\n",
            "9/9 [==============================] - 6s 125ms/step - loss: 5.0232 - accuracy: 0.0111\n",
            "Epoch 2/110\n",
            "9/9 [==============================] - 1s 126ms/step - loss: 4.9018 - accuracy: 0.0704\n",
            "Epoch 3/110\n",
            "9/9 [==============================] - 1s 77ms/step - loss: 4.7510 - accuracy: 0.0481\n",
            "Epoch 4/110\n",
            "9/9 [==============================] - 1s 67ms/step - loss: 4.6718 - accuracy: 0.0704\n",
            "Epoch 5/110\n",
            "9/9 [==============================] - 1s 70ms/step - loss: 4.6257 - accuracy: 0.0481\n",
            "Epoch 6/110\n",
            "9/9 [==============================] - 1s 71ms/step - loss: 4.5750 - accuracy: 0.0704\n",
            "Epoch 7/110\n",
            "9/9 [==============================] - 1s 67ms/step - loss: 4.5004 - accuracy: 0.0778\n",
            "Epoch 8/110\n",
            "9/9 [==============================] - 1s 69ms/step - loss: 4.3655 - accuracy: 0.0593\n",
            "Epoch 9/110\n",
            "9/9 [==============================] - 1s 66ms/step - loss: 4.1760 - accuracy: 0.1037\n",
            "Epoch 10/110\n",
            "9/9 [==============================] - 1s 71ms/step - loss: 3.9547 - accuracy: 0.1185\n",
            "Epoch 11/110\n",
            "9/9 [==============================] - 1s 72ms/step - loss: 3.7563 - accuracy: 0.1333\n",
            "Epoch 12/110\n",
            "9/9 [==============================] - 1s 66ms/step - loss: 3.4829 - accuracy: 0.1407\n",
            "Epoch 13/110\n",
            "9/9 [==============================] - 1s 67ms/step - loss: 3.2307 - accuracy: 0.1926\n",
            "Epoch 14/110\n",
            "9/9 [==============================] - 1s 67ms/step - loss: 3.0311 - accuracy: 0.2074\n",
            "Epoch 15/110\n",
            "9/9 [==============================] - 1s 68ms/step - loss: 2.8004 - accuracy: 0.2926\n",
            "Epoch 16/110\n",
            "9/9 [==============================] - 1s 69ms/step - loss: 2.6223 - accuracy: 0.2778\n",
            "Epoch 17/110\n",
            "9/9 [==============================] - 1s 69ms/step - loss: 2.4077 - accuracy: 0.3296\n",
            "Epoch 18/110\n",
            "9/9 [==============================] - 1s 69ms/step - loss: 2.2496 - accuracy: 0.3815\n",
            "Epoch 19/110\n",
            "9/9 [==============================] - 1s 111ms/step - loss: 2.0784 - accuracy: 0.4630\n",
            "Epoch 20/110\n",
            "9/9 [==============================] - 1s 115ms/step - loss: 1.9235 - accuracy: 0.5037\n",
            "Epoch 21/110\n",
            "9/9 [==============================] - 1s 125ms/step - loss: 1.7900 - accuracy: 0.5185\n",
            "Epoch 22/110\n",
            "9/9 [==============================] - 1s 121ms/step - loss: 1.6407 - accuracy: 0.5444\n",
            "Epoch 23/110\n",
            "9/9 [==============================] - 1s 68ms/step - loss: 1.5525 - accuracy: 0.6000\n",
            "Epoch 24/110\n",
            "9/9 [==============================] - 1s 70ms/step - loss: 1.4165 - accuracy: 0.6889\n",
            "Epoch 25/110\n",
            "9/9 [==============================] - 1s 68ms/step - loss: 1.3118 - accuracy: 0.6926\n",
            "Epoch 26/110\n",
            "9/9 [==============================] - 1s 68ms/step - loss: 1.1947 - accuracy: 0.7593\n",
            "Epoch 27/110\n",
            "9/9 [==============================] - 1s 67ms/step - loss: 1.1285 - accuracy: 0.7444\n",
            "Epoch 28/110\n",
            "9/9 [==============================] - 1s 67ms/step - loss: 1.0326 - accuracy: 0.8185\n",
            "Epoch 29/110\n",
            "9/9 [==============================] - 1s 70ms/step - loss: 1.0035 - accuracy: 0.7667\n",
            "Epoch 30/110\n",
            "9/9 [==============================] - 1s 71ms/step - loss: 0.9652 - accuracy: 0.8222\n",
            "Epoch 31/110\n",
            "9/9 [==============================] - 1s 70ms/step - loss: 0.8921 - accuracy: 0.8222\n",
            "Epoch 32/110\n",
            "9/9 [==============================] - 1s 68ms/step - loss: 0.8744 - accuracy: 0.8222\n",
            "Epoch 33/110\n",
            "9/9 [==============================] - 1s 68ms/step - loss: 0.7922 - accuracy: 0.8704\n",
            "Epoch 34/110\n",
            "9/9 [==============================] - 1s 67ms/step - loss: 0.7253 - accuracy: 0.9000\n",
            "Epoch 35/110\n",
            "9/9 [==============================] - 1s 70ms/step - loss: 0.6554 - accuracy: 0.9037\n",
            "Epoch 36/110\n",
            "9/9 [==============================] - 1s 67ms/step - loss: 0.6245 - accuracy: 0.9037\n",
            "Epoch 37/110\n",
            "9/9 [==============================] - 1s 72ms/step - loss: 0.5828 - accuracy: 0.9185\n",
            "Epoch 38/110\n",
            "9/9 [==============================] - 1s 71ms/step - loss: 0.5424 - accuracy: 0.9333\n",
            "Epoch 39/110\n",
            "9/9 [==============================] - 1s 120ms/step - loss: 0.4953 - accuracy: 0.9481\n",
            "Epoch 40/110\n",
            "9/9 [==============================] - 1s 119ms/step - loss: 0.4758 - accuracy: 0.9556\n",
            "Epoch 41/110\n",
            "9/9 [==============================] - 1s 122ms/step - loss: 0.4574 - accuracy: 0.9407\n",
            "Epoch 42/110\n",
            "9/9 [==============================] - 1s 101ms/step - loss: 0.4736 - accuracy: 0.9148\n",
            "Epoch 43/110\n",
            "9/9 [==============================] - 1s 66ms/step - loss: 0.4481 - accuracy: 0.9370\n",
            "Epoch 44/110\n",
            "9/9 [==============================] - 1s 70ms/step - loss: 0.4078 - accuracy: 0.9519\n",
            "Epoch 45/110\n",
            "9/9 [==============================] - 1s 70ms/step - loss: 0.3792 - accuracy: 0.9519\n",
            "Epoch 46/110\n",
            "9/9 [==============================] - 1s 70ms/step - loss: 0.3448 - accuracy: 0.9593\n",
            "Epoch 47/110\n",
            "9/9 [==============================] - 1s 71ms/step - loss: 0.3328 - accuracy: 0.9630\n",
            "Epoch 48/110\n",
            "9/9 [==============================] - 1s 67ms/step - loss: 0.3243 - accuracy: 0.9593\n",
            "Epoch 49/110\n",
            "9/9 [==============================] - 1s 69ms/step - loss: 0.2918 - accuracy: 0.9556\n",
            "Epoch 50/110\n",
            "9/9 [==============================] - 1s 67ms/step - loss: 0.2711 - accuracy: 0.9667\n",
            "Epoch 51/110\n",
            "9/9 [==============================] - 1s 69ms/step - loss: 0.2452 - accuracy: 0.9667\n",
            "Epoch 52/110\n",
            "9/9 [==============================] - 1s 74ms/step - loss: 0.2321 - accuracy: 0.9593\n",
            "Epoch 53/110\n",
            "9/9 [==============================] - 1s 67ms/step - loss: 0.2226 - accuracy: 0.9556\n",
            "Epoch 54/110\n",
            "9/9 [==============================] - 1s 72ms/step - loss: 0.2147 - accuracy: 0.9630\n",
            "Epoch 55/110\n",
            "9/9 [==============================] - 1s 69ms/step - loss: 0.2047 - accuracy: 0.9704\n",
            "Epoch 56/110\n",
            "9/9 [==============================] - 1s 68ms/step - loss: 0.1929 - accuracy: 0.9704\n",
            "Epoch 57/110\n",
            "9/9 [==============================] - 1s 72ms/step - loss: 0.1825 - accuracy: 0.9704\n",
            "Epoch 58/110\n",
            "9/9 [==============================] - 1s 97ms/step - loss: 0.1776 - accuracy: 0.9556\n",
            "Epoch 59/110\n",
            "9/9 [==============================] - 1s 115ms/step - loss: 0.1739 - accuracy: 0.9593\n",
            "Epoch 60/110\n",
            "9/9 [==============================] - 1s 120ms/step - loss: 0.1718 - accuracy: 0.9630\n",
            "Epoch 61/110\n",
            "9/9 [==============================] - 1s 123ms/step - loss: 0.1634 - accuracy: 0.9667\n",
            "Epoch 62/110\n",
            "9/9 [==============================] - 1s 80ms/step - loss: 0.1605 - accuracy: 0.9704\n",
            "Epoch 63/110\n",
            "9/9 [==============================] - 1s 68ms/step - loss: 0.1567 - accuracy: 0.9704\n",
            "Epoch 64/110\n",
            "9/9 [==============================] - 1s 68ms/step - loss: 0.1551 - accuracy: 0.9519\n",
            "Epoch 65/110\n",
            "9/9 [==============================] - 1s 69ms/step - loss: 0.1499 - accuracy: 0.9630\n",
            "Epoch 66/110\n",
            "9/9 [==============================] - 1s 71ms/step - loss: 0.1383 - accuracy: 0.9593\n",
            "Epoch 67/110\n",
            "9/9 [==============================] - 1s 69ms/step - loss: 0.1373 - accuracy: 0.9630\n",
            "Epoch 68/110\n",
            "9/9 [==============================] - 1s 71ms/step - loss: 0.1329 - accuracy: 0.9667\n",
            "Epoch 69/110\n",
            "9/9 [==============================] - 1s 69ms/step - loss: 0.1300 - accuracy: 0.9704\n",
            "Epoch 70/110\n",
            "9/9 [==============================] - 1s 66ms/step - loss: 0.1286 - accuracy: 0.9630\n",
            "Epoch 71/110\n",
            "9/9 [==============================] - 1s 71ms/step - loss: 0.1246 - accuracy: 0.9556\n",
            "Epoch 72/110\n",
            "9/9 [==============================] - 1s 64ms/step - loss: 0.1246 - accuracy: 0.9667\n",
            "Epoch 73/110\n",
            "9/9 [==============================] - 1s 69ms/step - loss: 0.1231 - accuracy: 0.9667\n",
            "Epoch 74/110\n",
            "9/9 [==============================] - 1s 68ms/step - loss: 0.1161 - accuracy: 0.9667\n",
            "Epoch 75/110\n",
            "9/9 [==============================] - 1s 67ms/step - loss: 0.1161 - accuracy: 0.9667\n",
            "Epoch 76/110\n",
            "9/9 [==============================] - 1s 69ms/step - loss: 0.1114 - accuracy: 0.9704\n",
            "Epoch 77/110\n",
            "9/9 [==============================] - 1s 67ms/step - loss: 0.1097 - accuracy: 0.9630\n",
            "Epoch 78/110\n",
            "9/9 [==============================] - 1s 113ms/step - loss: 0.1067 - accuracy: 0.9667\n",
            "Epoch 79/110\n",
            "9/9 [==============================] - 1s 126ms/step - loss: 0.1040 - accuracy: 0.9630\n",
            "Epoch 80/110\n",
            "9/9 [==============================] - 1s 123ms/step - loss: 0.1032 - accuracy: 0.9704\n",
            "Epoch 81/110\n",
            "9/9 [==============================] - 1s 120ms/step - loss: 0.1044 - accuracy: 0.9667\n",
            "Epoch 82/110\n",
            "9/9 [==============================] - 1s 71ms/step - loss: 0.1013 - accuracy: 0.9741\n",
            "Epoch 83/110\n",
            "9/9 [==============================] - 1s 70ms/step - loss: 0.0996 - accuracy: 0.9704\n",
            "Epoch 84/110\n",
            "9/9 [==============================] - 1s 67ms/step - loss: 0.0993 - accuracy: 0.9593\n",
            "Epoch 85/110\n",
            "9/9 [==============================] - 1s 70ms/step - loss: 0.0998 - accuracy: 0.9593\n",
            "Epoch 86/110\n",
            "9/9 [==============================] - 1s 69ms/step - loss: 0.0947 - accuracy: 0.9667\n",
            "Epoch 87/110\n",
            "9/9 [==============================] - 1s 69ms/step - loss: 0.0947 - accuracy: 0.9667\n",
            "Epoch 88/110\n",
            "9/9 [==============================] - 1s 68ms/step - loss: 0.0951 - accuracy: 0.9667\n",
            "Epoch 89/110\n",
            "9/9 [==============================] - 1s 67ms/step - loss: 0.0914 - accuracy: 0.9704\n",
            "Epoch 90/110\n",
            "9/9 [==============================] - 1s 70ms/step - loss: 0.0911 - accuracy: 0.9556\n",
            "Epoch 91/110\n",
            "9/9 [==============================] - 1s 68ms/step - loss: 0.0892 - accuracy: 0.9630\n",
            "Epoch 92/110\n",
            "9/9 [==============================] - 1s 68ms/step - loss: 0.0888 - accuracy: 0.9704\n",
            "Epoch 93/110\n",
            "9/9 [==============================] - 1s 69ms/step - loss: 0.0897 - accuracy: 0.9593\n",
            "Epoch 94/110\n",
            "9/9 [==============================] - 1s 67ms/step - loss: 0.0883 - accuracy: 0.9667\n",
            "Epoch 95/110\n",
            "9/9 [==============================] - 1s 70ms/step - loss: 0.0863 - accuracy: 0.9667\n",
            "Epoch 96/110\n",
            "9/9 [==============================] - 1s 68ms/step - loss: 0.0863 - accuracy: 0.9667\n",
            "Epoch 97/110\n",
            "9/9 [==============================] - 1s 82ms/step - loss: 0.0852 - accuracy: 0.9630\n",
            "Epoch 98/110\n",
            "9/9 [==============================] - 1s 117ms/step - loss: 0.0899 - accuracy: 0.9667\n",
            "Epoch 99/110\n",
            "9/9 [==============================] - 1s 116ms/step - loss: 0.0899 - accuracy: 0.9593\n",
            "Epoch 100/110\n",
            "9/9 [==============================] - 1s 125ms/step - loss: 0.0867 - accuracy: 0.9593\n",
            "Epoch 101/110\n",
            "9/9 [==============================] - 1s 102ms/step - loss: 0.0845 - accuracy: 0.9667\n",
            "Epoch 102/110\n",
            "9/9 [==============================] - 1s 69ms/step - loss: 0.0825 - accuracy: 0.9667\n",
            "Epoch 103/110\n",
            "9/9 [==============================] - 1s 70ms/step - loss: 0.0861 - accuracy: 0.9667\n",
            "Epoch 104/110\n",
            "9/9 [==============================] - 1s 69ms/step - loss: 0.0834 - accuracy: 0.9630\n",
            "Epoch 105/110\n",
            "9/9 [==============================] - 1s 69ms/step - loss: 0.0813 - accuracy: 0.9667\n",
            "Epoch 106/110\n",
            "9/9 [==============================] - 1s 69ms/step - loss: 0.0799 - accuracy: 0.9630\n",
            "Epoch 107/110\n",
            "9/9 [==============================] - 1s 71ms/step - loss: 0.0798 - accuracy: 0.9630\n",
            "Epoch 108/110\n",
            "9/9 [==============================] - 1s 70ms/step - loss: 0.0792 - accuracy: 0.9630\n",
            "Epoch 109/110\n",
            "9/9 [==============================] - 1s 70ms/step - loss: 0.0808 - accuracy: 0.9630\n",
            "Epoch 110/110\n",
            "9/9 [==============================] - 1s 68ms/step - loss: 0.0786 - accuracy: 0.9667\n"
          ]
        }
      ]
    },
    {
      "cell_type": "code",
      "source": [
        "model.summary()"
      ],
      "metadata": {
        "colab": {
          "base_uri": "https://localhost:8080/"
        },
        "id": "kDc15bRC5f_m",
        "outputId": "2abcf11a-f791-41ce-f006-f9435a4fbee1"
      },
      "execution_count": 121,
      "outputs": [
        {
          "output_type": "stream",
          "name": "stdout",
          "text": [
            "Model: \"sequential_5\"\n",
            "_________________________________________________________________\n",
            " Layer (type)                Output Shape              Param #   \n",
            "=================================================================\n",
            " embedding_4 (Embedding)     (None, 15, 240)           36720     \n",
            "                                                                 \n",
            " bidirectional_3 (Bidirecti  (None, 300)               469200    \n",
            " onal)                                                           \n",
            "                                                                 \n",
            " dense_3 (Dense)             (None, 153)               46053     \n",
            "                                                                 \n",
            "=================================================================\n",
            "Total params: 551973 (2.11 MB)\n",
            "Trainable params: 551973 (2.11 MB)\n",
            "Non-trainable params: 0 (0.00 Byte)\n",
            "_________________________________________________________________\n"
          ]
        }
      ]
    },
    {
      "cell_type": "code",
      "source": [
        "import matplotlib.pyplot as plt\n",
        "def plot_graphs(history, string):\n",
        "  plt.plot(history.history[string])\n",
        "  plt.xlabel(\"Epochs\")\n",
        "  plt.ylabel(string)\n",
        "  plt.show()"
      ],
      "metadata": {
        "id": "jT9cisVb6Al9"
      },
      "execution_count": 122,
      "outputs": []
    },
    {
      "cell_type": "code",
      "source": [
        "plot_graphs(history,'accuracy')"
      ],
      "metadata": {
        "colab": {
          "base_uri": "https://localhost:8080/",
          "height": 449
        },
        "id": "ALqlATzW6Anu",
        "outputId": "6ffc2075-315a-499f-ac57-4434e8aaf024"
      },
      "execution_count": 123,
      "outputs": [
        {
          "output_type": "display_data",
          "data": {
            "text/plain": [
              "<Figure size 640x480 with 1 Axes>"
            ],
            "image/png": "[encoded data removed]"
          },
          "metadata": {}
        }
      ]
    },
    {
      "cell_type": "code",
      "source": [
        "test_loss, test_accuracy = model.evaluate(xs, ys)"
      ],
      "metadata": {
        "colab": {
          "base_uri": "https://localhost:8080/"
        },
        "id": "nTTnPgyG8dv9",
        "outputId": "0ea84684-43f2-4f82-fac0-81db3d68ae66"
      },
      "execution_count": 126,
      "outputs": [
        {
          "output_type": "stream",
          "name": "stdout",
          "text": [
            "9/9 [==============================] - 1s 21ms/step - loss: 0.0743 - accuracy: 0.9704\n"
          ]
        }
      ]
    },
    {
      "cell_type": "code",
      "source": [
        "plt.figure(figsize=(6, 6))\n",
        "plt.bar(x=[\"Test Loss\", \"Test Accuracy\"], height=[test_loss, test_accuracy])\n",
        "plt.title(\"Model Evaluation Results\")\n",
        "plt.ylabel(\"Value\")\n",
        "plt.xlabel(\"Metric\")\n",
        "plt.grid(axis='y')\n",
        "plt.tight_layout()\n",
        "plt.show()\n"
      ],
      "metadata": {
        "colab": {
          "base_uri": "https://localhost:8080/",
          "height": 607
        },
        "id": "xB_0e_1UBji7",
        "outputId": "5ed2576d-01ee-4d0e-f500-2d0f01d1f085"
      },
      "execution_count": 148,
      "outputs": [
        {
          "output_type": "display_data",
          "data": {
            "text/plain": [
              "<Figure size 600x600 with 1 Axes>"
            ],
            "image/png": "[encoded data removed]"
          },
          "metadata": {}
        }
      ]
    },
    {
      "cell_type": "code",
      "source": [
        "test_sentence = \"when you laugh\"\n",
        "next_word = 10"
      ],
      "metadata": {
        "id": "2oisJu3c6ArP"
      },
      "execution_count": 138,
      "outputs": []
    },
    {
      "cell_type": "code",
      "source": [
        "for i in range(next_word):\n",
        "  token_list = tokenizer.texts_to_sequences([test_sentence])[0]\n",
        "  token_list = pad_sequences([token_list],maxlen=max_seq_len-1,padding='pre')\n",
        "  predicted = np.argmax(model.predict(token_list), axis=-1)\n",
        "  output=''\n",
        "  for word,index in tokenizer.word_index.items():\n",
        "    if index == predicted:\n",
        "      output = word\n",
        "      break\n",
        "  test_sentence = test_sentence + \" \" + output"
      ],
      "metadata": {
        "colab": {
          "base_uri": "https://localhost:8080/"
        },
        "id": "Bkfa3mMc6kGD",
        "outputId": "2cfa962c-705c-4adb-a6cf-e5d2e86ab370"
      },
      "execution_count": 139,
      "outputs": [
        {
          "output_type": "stream",
          "name": "stdout",
          "text": [
            "1/1 [==============================] - 0s 25ms/step\n",
            "1/1 [==============================] - 0s 26ms/step\n",
            "1/1 [==============================] - 0s 29ms/step\n",
            "1/1 [==============================] - 0s 26ms/step\n",
            "1/1 [==============================] - 0s 27ms/step\n",
            "1/1 [==============================] - 0s 27ms/step\n",
            "1/1 [==============================] - 0s 27ms/step\n",
            "1/1 [==============================] - 0s 25ms/step\n",
            "1/1 [==============================] - 0s 29ms/step\n",
            "1/1 [==============================] - 0s 25ms/step\n"
          ]
        }
      ]
    },
    {
      "cell_type": "code",
      "source": [
        "test_sentence"
      ],
      "metadata": {
        "colab": {
          "base_uri": "https://localhost:8080/",
          "height": 36
        },
        "id": "VrqC6WOn7zkG",
        "outputId": "859b5d0e-4ead-4fa6-c98d-e80ebcdcceae"
      },
      "execution_count": 140,
      "outputs": [
        {
          "output_type": "execute_result",
          "data": {
            "text/plain": [
              "\"when you laugh gone but i'm tryin' to give you the life that\""
            ],
            "application/vnd.google.colaboratory.intrinsic+json": {
              "type": "string"
            }
          },
          "metadata": {},
          "execution_count": 140
        }
      ]
    },
    {
      "cell_type": "markdown",
      "source": [],
      "metadata": {
        "id": "aK5M2B5m6Umx"
      }
    }
  ]
}